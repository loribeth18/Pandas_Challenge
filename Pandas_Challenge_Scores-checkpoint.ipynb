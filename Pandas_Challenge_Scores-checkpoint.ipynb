{
 "cells": [
  {
   "cell_type": "code",
   "execution_count": 26,
   "metadata": {},
   "outputs": [],
   "source": [
    "import pandas as pd\n",
    "import numpy as np"
   ]
  },
  {
   "cell_type": "code",
   "execution_count": 27,
   "metadata": {},
   "outputs": [],
   "source": [
    "school_data_to_load = \"C:/Users/lorib/Desktop/Pandas_Challenge-master/schools_complete.csv\"\n",
    "student_data_to_load = \"C:/Users/lorib/Desktop/Pandas_Challenge-master/students_complete.csv\""
   ]
  },
  {
   "cell_type": "code",
   "execution_count": 28,
   "metadata": {
    "scrolled": true
   },
   "outputs": [
    {
     "data": {
      "text/html": [
       "<div>\n",
       "<style scoped>\n",
       "    .dataframe tbody tr th:only-of-type {\n",
       "        vertical-align: middle;\n",
       "    }\n",
       "\n",
       "    .dataframe tbody tr th {\n",
       "        vertical-align: top;\n",
       "    }\n",
       "\n",
       "    .dataframe thead th {\n",
       "        text-align: right;\n",
       "    }\n",
       "</style>\n",
       "<table border=\"1\" class=\"dataframe\">\n",
       "  <thead>\n",
       "    <tr style=\"text-align: right;\">\n",
       "      <th></th>\n",
       "      <th>Student ID</th>\n",
       "      <th>student_name</th>\n",
       "      <th>gender</th>\n",
       "      <th>grade</th>\n",
       "      <th>school_name</th>\n",
       "      <th>reading_score</th>\n",
       "      <th>math_score</th>\n",
       "    </tr>\n",
       "  </thead>\n",
       "  <tbody>\n",
       "    <tr>\n",
       "      <th>0</th>\n",
       "      <td>0</td>\n",
       "      <td>Paul Bradley</td>\n",
       "      <td>M</td>\n",
       "      <td>9th</td>\n",
       "      <td>Huang High School</td>\n",
       "      <td>66</td>\n",
       "      <td>79</td>\n",
       "    </tr>\n",
       "    <tr>\n",
       "      <th>1</th>\n",
       "      <td>1</td>\n",
       "      <td>Victor Smith</td>\n",
       "      <td>M</td>\n",
       "      <td>12th</td>\n",
       "      <td>Huang High School</td>\n",
       "      <td>94</td>\n",
       "      <td>61</td>\n",
       "    </tr>\n",
       "    <tr>\n",
       "      <th>2</th>\n",
       "      <td>2</td>\n",
       "      <td>Kevin Rodriguez</td>\n",
       "      <td>M</td>\n",
       "      <td>12th</td>\n",
       "      <td>Huang High School</td>\n",
       "      <td>90</td>\n",
       "      <td>60</td>\n",
       "    </tr>\n",
       "    <tr>\n",
       "      <th>3</th>\n",
       "      <td>3</td>\n",
       "      <td>Dr. Richard Scott</td>\n",
       "      <td>M</td>\n",
       "      <td>12th</td>\n",
       "      <td>Huang High School</td>\n",
       "      <td>67</td>\n",
       "      <td>58</td>\n",
       "    </tr>\n",
       "    <tr>\n",
       "      <th>4</th>\n",
       "      <td>4</td>\n",
       "      <td>Bonnie Ray</td>\n",
       "      <td>F</td>\n",
       "      <td>9th</td>\n",
       "      <td>Huang High School</td>\n",
       "      <td>97</td>\n",
       "      <td>84</td>\n",
       "    </tr>\n",
       "  </tbody>\n",
       "</table>\n",
       "</div>"
      ],
      "text/plain": [
       "   Student ID       student_name gender grade        school_name  \\\n",
       "0           0       Paul Bradley      M   9th  Huang High School   \n",
       "1           1       Victor Smith      M  12th  Huang High School   \n",
       "2           2    Kevin Rodriguez      M  12th  Huang High School   \n",
       "3           3  Dr. Richard Scott      M  12th  Huang High School   \n",
       "4           4         Bonnie Ray      F   9th  Huang High School   \n",
       "\n",
       "   reading_score  math_score  \n",
       "0             66          79  \n",
       "1             94          61  \n",
       "2             90          60  \n",
       "3             67          58  \n",
       "4             97          84  "
      ]
     },
     "execution_count": 28,
     "metadata": {},
     "output_type": "execute_result"
    }
   ],
   "source": [
    "school_data_df = pd.read_csv(school_data_to_load)\n",
    "school_data_df.head()\n",
    "student_data_df = pd.read_csv(student_data_to_load)\n",
    "student_data_df.head()"
   ]
  },
  {
   "cell_type": "code",
   "execution_count": 31,
   "metadata": {},
   "outputs": [
    {
     "data": {
      "text/plain": [
       "Index(['Student ID', 'student_name', 'gender', 'grade', 'school_name',\n",
       "       'reading_score', 'math_score', 'School ID', 'type', 'size', 'budget'],\n",
       "      dtype='object')"
      ]
     },
     "execution_count": 31,
     "metadata": {},
     "output_type": "execute_result"
    }
   ],
   "source": [
    "# Combine the data into a single dataset\n",
    "school_data_complete = pd.merge(student_data_df, school_data_df, how=\"left\", on=[\"school_name\", \"school_name\"])\n",
    "#school_data_complete.head()\n",
    "school_data_complete.columns"
   ]
  },
  {
   "cell_type": "code",
   "execution_count": 32,
   "metadata": {},
   "outputs": [],
   "source": [
    "#create df for math\n",
    "mathscores_df= pd.DataFrame()"
   ]
  },
  {
   "cell_type": "code",
   "execution_count": 33,
   "metadata": {},
   "outputs": [
    {
     "name": "stdout",
     "output_type": "stream",
     "text": [
      "              school_name\n",
      "0       Huang High School\n",
      "1    Figueroa High School\n",
      "2     Shelton High School\n",
      "3   Hernandez High School\n",
      "4     Griffin High School\n",
      "5      Wilson High School\n",
      "6     Cabrera High School\n",
      "7      Bailey High School\n",
      "8      Holden High School\n",
      "9        Pena High School\n",
      "10     Wright High School\n",
      "11  Rodriguez High School\n",
      "12    Johnson High School\n",
      "13       Ford High School\n",
      "14     Thomas High School\n"
     ]
    }
   ],
   "source": [
    "#adding school name index to mathdf\n",
    "schoolName=school_data_df['school_name'].values\n",
    "mathscores_df[\"school_name\"] = schoolName\n",
    "print(mathscores_df)"
   ]
  },
  {
   "cell_type": "code",
   "execution_count": 34,
   "metadata": {},
   "outputs": [
    {
     "name": "stdout",
     "output_type": "stream",
     "text": [
      "              school_name\n",
      "0      Bailey High School\n",
      "1     Cabrera High School\n",
      "2    Figueroa High School\n",
      "3        Ford High School\n",
      "4     Griffin High School\n",
      "5   Hernandez High School\n",
      "6      Holden High School\n",
      "7       Huang High School\n",
      "8     Johnson High School\n",
      "9        Pena High School\n",
      "10  Rodriguez High School\n",
      "11    Shelton High School\n",
      "12     Thomas High School\n",
      "13     Wilson High School\n",
      "14     Wright High School\n"
     ]
    }
   ],
   "source": [
    "#sorting\n",
    "mathscores_df=mathscores_df.sort_values(by='school_name').reset_index(drop=True)\n",
    "print(mathscores_df)"
   ]
  },
  {
   "cell_type": "code",
   "execution_count": 35,
   "metadata": {},
   "outputs": [
    {
     "name": "stdout",
     "output_type": "stream",
     "text": [
      "<pandas.core.groupby.groupby.DataFrameGroupBy object at 0x0000014453FB8E80>\n"
     ]
    }
   ],
   "source": [
    "#9thgrade data\n",
    "grade_9 = school_data_complete[(school_data_complete[\"grade\"] == \"9th\")]\n",
    "grade_9= grade_9.sort_values(by='school_name').reset_index(drop=True)\n",
    "grade_9_group=grade_9.groupby('school_name')\n",
    "print(grade_9_group)"
   ]
  },
  {
   "cell_type": "code",
   "execution_count": 36,
   "metadata": {},
   "outputs": [
    {
     "name": "stdout",
     "output_type": "stream",
     "text": [
      "              school_name        9th\n",
      "0      Bailey High School  77.083676\n",
      "1     Cabrera High School  83.094697\n",
      "2    Figueroa High School  76.403037\n",
      "3        Ford High School  77.361345\n",
      "4     Griffin High School  82.044010\n",
      "5   Hernandez High School  77.438495\n",
      "6      Holden High School  83.787402\n",
      "7       Huang High School  77.027251\n",
      "8     Johnson High School  77.187857\n",
      "9        Pena High School  83.625455\n",
      "10  Rodriguez High School  76.859966\n",
      "11    Shelton High School  83.420755\n",
      "12     Thomas High School  83.590022\n",
      "13     Wilson High School  83.085578\n",
      "14     Wright High School  83.264706\n"
     ]
    }
   ],
   "source": [
    "#adding 9th to df\n",
    "avg9th_math_score= grade_9_group['math_score'].mean().values\n",
    "mathscores_df['9th'] = avg9th_math_score\n",
    "print(mathscores_df)"
   ]
  },
  {
   "cell_type": "code",
   "execution_count": 39,
   "metadata": {},
   "outputs": [
    {
     "name": "stdout",
     "output_type": "stream",
     "text": [
      "<pandas.core.groupby.groupby.DataFrameGroupBy object at 0x0000014455B9C710>\n"
     ]
    }
   ],
   "source": [
    "#10thgrade data\n",
    "grade_10 = school_data_complete[(school_data_complete[\"grade\"] == \"10th\")]\n",
    "grade_10= grade_10.sort_values(by='school_name').reset_index(drop=True)\n",
    "grade_10_group=grade_10.groupby('school_name')\n",
    "print(grade_10_group)\n"
   ]
  },
  {
   "cell_type": "code",
   "execution_count": 41,
   "metadata": {},
   "outputs": [
    {
     "name": "stdout",
     "output_type": "stream",
     "text": [
      "              school_name        9th       10th\n",
      "0      Bailey High School  77.083676  76.996772\n",
      "1     Cabrera High School  83.094697  83.154506\n",
      "2    Figueroa High School  76.403037  76.539974\n",
      "3        Ford High School  77.361345  77.672316\n",
      "4     Griffin High School  82.044010  84.229064\n",
      "5   Hernandez High School  77.438495  77.337408\n",
      "6      Holden High School  83.787402  83.429825\n",
      "7       Huang High School  77.027251  75.908735\n",
      "8     Johnson High School  77.187857  76.691117\n",
      "9        Pena High School  83.625455  83.372000\n",
      "10  Rodriguez High School  76.859966  76.612500\n",
      "11    Shelton High School  83.420755  82.917411\n",
      "12     Thomas High School  83.590022  83.087886\n",
      "13     Wilson High School  83.085578  83.724422\n",
      "14     Wright High School  83.264706  84.010288\n"
     ]
    }
   ],
   "source": [
    "#adding 10th to df\n",
    "avg10th_math_score= grade_10_group['math_score'].mean().values\n",
    "mathscores_df['10th'] = avg10th_math_score\n",
    "print(mathscores_df)"
   ]
  },
  {
   "cell_type": "code",
   "execution_count": 42,
   "metadata": {},
   "outputs": [
    {
     "name": "stdout",
     "output_type": "stream",
     "text": [
      "<pandas.core.groupby.groupby.DataFrameGroupBy object at 0x0000014455B9C2B0>\n"
     ]
    }
   ],
   "source": [
    "#11thgrade data\n",
    "grade_11 = school_data_complete[(school_data_complete[\"grade\"] == \"11th\")]\n",
    "grade_11= grade_11.sort_values(by='school_name').reset_index(drop=True)\n",
    "grade_11_group=grade_11.groupby('school_name')\n",
    "print(grade_11_group)"
   ]
  },
  {
   "cell_type": "code",
   "execution_count": 43,
   "metadata": {},
   "outputs": [
    {
     "name": "stdout",
     "output_type": "stream",
     "text": [
      "              school_name        9th       10th       11th\n",
      "0      Bailey High School  77.083676  76.996772  77.515588\n",
      "1     Cabrera High School  83.094697  83.154506  82.765560\n",
      "2    Figueroa High School  76.403037  76.539974  76.884344\n",
      "3        Ford High School  77.361345  77.672316  76.918058\n",
      "4     Griffin High School  82.044010  84.229064  83.842105\n",
      "5   Hernandez High School  77.438495  77.337408  77.136029\n",
      "6      Holden High School  83.787402  83.429825  85.000000\n",
      "7       Huang High School  77.027251  75.908735  76.446602\n",
      "8     Johnson High School  77.187857  76.691117  77.491653\n",
      "9        Pena High School  83.625455  83.372000  84.328125\n",
      "10  Rodriguez High School  76.859966  76.612500  76.395626\n",
      "11    Shelton High School  83.420755  82.917411  83.383495\n",
      "12     Thomas High School  83.590022  83.087886  83.498795\n",
      "13     Wilson High School  83.085578  83.724422  83.195326\n",
      "14     Wright High School  83.264706  84.010288  83.836782\n"
     ]
    }
   ],
   "source": [
    "#adding 11th to df\n",
    "avg11th_math_score= grade_11_group['math_score'].mean().values\n",
    "mathscores_df['11th'] = avg11th_math_score\n",
    "print(mathscores_df)"
   ]
  },
  {
   "cell_type": "code",
   "execution_count": 44,
   "metadata": {},
   "outputs": [
    {
     "name": "stdout",
     "output_type": "stream",
     "text": [
      "<pandas.core.groupby.groupby.DataFrameGroupBy object at 0x0000014455B9C3C8>\n"
     ]
    }
   ],
   "source": [
    "#12thgrade data\n",
    "grade_12= school_data_complete[(school_data_complete[\"grade\"] == \"12th\")]\n",
    "grade_12= grade_12.sort_values(by='school_name').reset_index(drop=True)\n",
    "grade_12_group=grade_12.groupby('school_name')\n",
    "print(grade_12_group)"
   ]
  },
  {
   "cell_type": "code",
   "execution_count": 55,
   "metadata": {},
   "outputs": [
    {
     "name": "stdout",
     "output_type": "stream",
     "text": [
      "              school_name        9th       10th       11th       12th\n",
      "0      Bailey High School  77.083676  76.996772  77.515588  76.492218\n",
      "1     Cabrera High School  83.094697  83.154506  82.765560  83.277487\n",
      "2    Figueroa High School  76.403037  76.539974  76.884344  77.151369\n",
      "3        Ford High School  77.361345  77.672316  76.918058  76.179963\n",
      "4     Griffin High School  82.044010  84.229064  83.842105  83.356164\n",
      "5   Hernandez High School  77.438495  77.337408  77.136029  77.186567\n",
      "6      Holden High School  83.787402  83.429825  85.000000  82.855422\n",
      "7       Huang High School  77.027251  75.908735  76.446602  77.225641\n",
      "8     Johnson High School  77.187857  76.691117  77.491653  76.863248\n",
      "9        Pena High School  83.625455  83.372000  84.328125  84.121547\n",
      "10  Rodriguez High School  76.859966  76.612500  76.395626  77.690748\n",
      "11    Shelton High School  83.420755  82.917411  83.383495  83.778976\n",
      "12     Thomas High School  83.590022  83.087886  83.498795  83.497041\n",
      "13     Wilson High School  83.085578  83.724422  83.195326  83.035794\n",
      "14     Wright High School  83.264706  84.010288  83.836782  83.644986\n"
     ]
    }
   ],
   "source": [
    "#adding 12th to df\n",
    "avg12th_math_score= grade_12_group['math_score'].mean().values\n",
    "mathscores_df['12th'] = avg12th_math_score\n",
    "print(mathscores_df)"
   ]
  },
  {
   "cell_type": "code",
   "execution_count": 57,
   "metadata": {},
   "outputs": [
    {
     "data": {
      "text/html": [
       "<div>\n",
       "<style scoped>\n",
       "    .dataframe tbody tr th:only-of-type {\n",
       "        vertical-align: middle;\n",
       "    }\n",
       "\n",
       "    .dataframe tbody tr th {\n",
       "        vertical-align: top;\n",
       "    }\n",
       "\n",
       "    .dataframe thead th {\n",
       "        text-align: right;\n",
       "    }\n",
       "</style>\n",
       "<table border=\"1\" class=\"dataframe\">\n",
       "  <thead>\n",
       "    <tr style=\"text-align: right;\">\n",
       "      <th></th>\n",
       "      <th>school_name</th>\n",
       "      <th>9th</th>\n",
       "      <th>10th</th>\n",
       "      <th>11th</th>\n",
       "      <th>12th</th>\n",
       "    </tr>\n",
       "  </thead>\n",
       "  <tbody>\n",
       "    <tr>\n",
       "      <th>0</th>\n",
       "      <td>Bailey High School</td>\n",
       "      <td>77.083676</td>\n",
       "      <td>76.996772</td>\n",
       "      <td>77.515588</td>\n",
       "      <td>76.492218</td>\n",
       "    </tr>\n",
       "    <tr>\n",
       "      <th>1</th>\n",
       "      <td>Cabrera High School</td>\n",
       "      <td>83.094697</td>\n",
       "      <td>83.154506</td>\n",
       "      <td>82.765560</td>\n",
       "      <td>83.277487</td>\n",
       "    </tr>\n",
       "    <tr>\n",
       "      <th>2</th>\n",
       "      <td>Figueroa High School</td>\n",
       "      <td>76.403037</td>\n",
       "      <td>76.539974</td>\n",
       "      <td>76.884344</td>\n",
       "      <td>77.151369</td>\n",
       "    </tr>\n",
       "    <tr>\n",
       "      <th>3</th>\n",
       "      <td>Ford High School</td>\n",
       "      <td>77.361345</td>\n",
       "      <td>77.672316</td>\n",
       "      <td>76.918058</td>\n",
       "      <td>76.179963</td>\n",
       "    </tr>\n",
       "    <tr>\n",
       "      <th>4</th>\n",
       "      <td>Griffin High School</td>\n",
       "      <td>82.044010</td>\n",
       "      <td>84.229064</td>\n",
       "      <td>83.842105</td>\n",
       "      <td>83.356164</td>\n",
       "    </tr>\n",
       "    <tr>\n",
       "      <th>5</th>\n",
       "      <td>Hernandez High School</td>\n",
       "      <td>77.438495</td>\n",
       "      <td>77.337408</td>\n",
       "      <td>77.136029</td>\n",
       "      <td>77.186567</td>\n",
       "    </tr>\n",
       "    <tr>\n",
       "      <th>6</th>\n",
       "      <td>Holden High School</td>\n",
       "      <td>83.787402</td>\n",
       "      <td>83.429825</td>\n",
       "      <td>85.000000</td>\n",
       "      <td>82.855422</td>\n",
       "    </tr>\n",
       "    <tr>\n",
       "      <th>7</th>\n",
       "      <td>Huang High School</td>\n",
       "      <td>77.027251</td>\n",
       "      <td>75.908735</td>\n",
       "      <td>76.446602</td>\n",
       "      <td>77.225641</td>\n",
       "    </tr>\n",
       "    <tr>\n",
       "      <th>8</th>\n",
       "      <td>Johnson High School</td>\n",
       "      <td>77.187857</td>\n",
       "      <td>76.691117</td>\n",
       "      <td>77.491653</td>\n",
       "      <td>76.863248</td>\n",
       "    </tr>\n",
       "    <tr>\n",
       "      <th>9</th>\n",
       "      <td>Pena High School</td>\n",
       "      <td>83.625455</td>\n",
       "      <td>83.372000</td>\n",
       "      <td>84.328125</td>\n",
       "      <td>84.121547</td>\n",
       "    </tr>\n",
       "    <tr>\n",
       "      <th>10</th>\n",
       "      <td>Rodriguez High School</td>\n",
       "      <td>76.859966</td>\n",
       "      <td>76.612500</td>\n",
       "      <td>76.395626</td>\n",
       "      <td>77.690748</td>\n",
       "    </tr>\n",
       "    <tr>\n",
       "      <th>11</th>\n",
       "      <td>Shelton High School</td>\n",
       "      <td>83.420755</td>\n",
       "      <td>82.917411</td>\n",
       "      <td>83.383495</td>\n",
       "      <td>83.778976</td>\n",
       "    </tr>\n",
       "    <tr>\n",
       "      <th>12</th>\n",
       "      <td>Thomas High School</td>\n",
       "      <td>83.590022</td>\n",
       "      <td>83.087886</td>\n",
       "      <td>83.498795</td>\n",
       "      <td>83.497041</td>\n",
       "    </tr>\n",
       "    <tr>\n",
       "      <th>13</th>\n",
       "      <td>Wilson High School</td>\n",
       "      <td>83.085578</td>\n",
       "      <td>83.724422</td>\n",
       "      <td>83.195326</td>\n",
       "      <td>83.035794</td>\n",
       "    </tr>\n",
       "    <tr>\n",
       "      <th>14</th>\n",
       "      <td>Wright High School</td>\n",
       "      <td>83.264706</td>\n",
       "      <td>84.010288</td>\n",
       "      <td>83.836782</td>\n",
       "      <td>83.644986</td>\n",
       "    </tr>\n",
       "  </tbody>\n",
       "</table>\n",
       "</div>"
      ],
      "text/plain": [
       "              school_name        9th       10th       11th       12th\n",
       "0      Bailey High School  77.083676  76.996772  77.515588  76.492218\n",
       "1     Cabrera High School  83.094697  83.154506  82.765560  83.277487\n",
       "2    Figueroa High School  76.403037  76.539974  76.884344  77.151369\n",
       "3        Ford High School  77.361345  77.672316  76.918058  76.179963\n",
       "4     Griffin High School  82.044010  84.229064  83.842105  83.356164\n",
       "5   Hernandez High School  77.438495  77.337408  77.136029  77.186567\n",
       "6      Holden High School  83.787402  83.429825  85.000000  82.855422\n",
       "7       Huang High School  77.027251  75.908735  76.446602  77.225641\n",
       "8     Johnson High School  77.187857  76.691117  77.491653  76.863248\n",
       "9        Pena High School  83.625455  83.372000  84.328125  84.121547\n",
       "10  Rodriguez High School  76.859966  76.612500  76.395626  77.690748\n",
       "11    Shelton High School  83.420755  82.917411  83.383495  83.778976\n",
       "12     Thomas High School  83.590022  83.087886  83.498795  83.497041\n",
       "13     Wilson High School  83.085578  83.724422  83.195326  83.035794\n",
       "14     Wright High School  83.264706  84.010288  83.836782  83.644986"
      ]
     },
     "execution_count": 57,
     "metadata": {},
     "output_type": "execute_result"
    }
   ],
   "source": [
    "mathscores_df= mathscores_df.sort_values(by='school_name').reset_index(drop=True)\n",
    "mathscores_df"
   ]
  },
  {
   "cell_type": "code",
   "execution_count": 46,
   "metadata": {},
   "outputs": [],
   "source": [
    "#create df for reading\n",
    "readingscores_df= pd.DataFrame()"
   ]
  },
  {
   "cell_type": "code",
   "execution_count": 47,
   "metadata": {},
   "outputs": [
    {
     "name": "stdout",
     "output_type": "stream",
     "text": [
      "              school_name\n",
      "0       Huang High School\n",
      "1    Figueroa High School\n",
      "2     Shelton High School\n",
      "3   Hernandez High School\n",
      "4     Griffin High School\n",
      "5      Wilson High School\n",
      "6     Cabrera High School\n",
      "7      Bailey High School\n",
      "8      Holden High School\n",
      "9        Pena High School\n",
      "10     Wright High School\n",
      "11  Rodriguez High School\n",
      "12    Johnson High School\n",
      "13       Ford High School\n",
      "14     Thomas High School\n"
     ]
    }
   ],
   "source": [
    "#adding school name index to readingdf\n",
    "schoolName=school_data_df['school_name'].values\n",
    "readingscores_df[\"school_name\"] = schoolName\n",
    "print(readingscores_df)"
   ]
  },
  {
   "cell_type": "code",
   "execution_count": 48,
   "metadata": {},
   "outputs": [
    {
     "name": "stdout",
     "output_type": "stream",
     "text": [
      "              school_name\n",
      "0      Bailey High School\n",
      "1     Cabrera High School\n",
      "2    Figueroa High School\n",
      "3        Ford High School\n",
      "4     Griffin High School\n",
      "5   Hernandez High School\n",
      "6      Holden High School\n",
      "7       Huang High School\n",
      "8     Johnson High School\n",
      "9        Pena High School\n",
      "10  Rodriguez High School\n",
      "11    Shelton High School\n",
      "12     Thomas High School\n",
      "13     Wilson High School\n",
      "14     Wright High School\n"
     ]
    }
   ],
   "source": [
    "#sorting\n",
    "readingscores_df=readingscores_df.sort_values(by='school_name').reset_index(drop=True)\n",
    "print(readingscores_df)"
   ]
  },
  {
   "cell_type": "code",
   "execution_count": 49,
   "metadata": {},
   "outputs": [
    {
     "name": "stdout",
     "output_type": "stream",
     "text": [
      "<pandas.core.groupby.groupby.DataFrameGroupBy object at 0x000001445614D208>\n",
      "              school_name        9th\n",
      "0      Bailey High School  81.303155\n",
      "1     Cabrera High School  83.676136\n",
      "2    Figueroa High School  81.198598\n",
      "3        Ford High School  80.632653\n",
      "4     Griffin High School  83.369193\n",
      "5   Hernandez High School  80.866860\n",
      "6      Holden High School  83.677165\n",
      "7       Huang High School  81.290284\n",
      "8     Johnson High School  81.260714\n",
      "9        Pena High School  83.807273\n",
      "10  Rodriguez High School  80.993127\n",
      "11    Shelton High School  84.122642\n",
      "12     Thomas High School  83.728850\n",
      "13     Wilson High School  83.939778\n",
      "14     Wright High School  83.833333\n"
     ]
    }
   ],
   "source": [
    "#9thgrade data\n",
    "grade_9= school_data_complete[(school_data_complete[\"grade\"] == \"9th\")]\n",
    "grade_9= grade_9.sort_values(by='school_name').reset_index(drop=True)\n",
    "grade_9_group= grade_9.groupby('school_name')\n",
    "print(grade_9_group)\n",
    "#adding 9th to df\n",
    "avg9th_reading_score= grade_9_group['reading_score'].mean().values\n",
    "readingscores_df['9th']= avg9th_reading_score\n",
    "print(readingscores_df)"
   ]
  },
  {
   "cell_type": "code",
   "execution_count": 50,
   "metadata": {},
   "outputs": [
    {
     "name": "stdout",
     "output_type": "stream",
     "text": [
      "<pandas.core.groupby.groupby.DataFrameGroupBy object at 0x000001445614D160>\n",
      "              school_name        9th       10th\n",
      "0      Bailey High School  81.303155  80.907183\n",
      "1     Cabrera High School  83.676136  84.253219\n",
      "2    Figueroa High School  81.198598  81.408912\n",
      "3        Ford High School  80.632653  81.262712\n",
      "4     Griffin High School  83.369193  83.706897\n",
      "5   Hernandez High School  80.866860  80.660147\n",
      "6      Holden High School  83.677165  83.324561\n",
      "7       Huang High School  81.290284  81.512386\n",
      "8     Johnson High School  81.260714  80.773431\n",
      "9        Pena High School  83.807273  83.612000\n",
      "10  Rodriguez High School  80.993127  80.629808\n",
      "11    Shelton High School  84.122642  83.441964\n",
      "12     Thomas High School  83.728850  84.254157\n",
      "13     Wilson High School  83.939778  84.021452\n",
      "14     Wright High School  83.833333  83.812757\n"
     ]
    }
   ],
   "source": [
    "#10thgrade data\n",
    "grade_10= school_data_complete[(school_data_complete[\"grade\"] == \"10th\")]\n",
    "grade_10= grade_10.sort_values(by='school_name').reset_index(drop=True)\n",
    "grade_10_group=grade_10.groupby('school_name')\n",
    "print(grade_10_group)\n",
    "#adding 10th to df\n",
    "avg10th_reading_score= grade_10_group['reading_score'].mean().values\n",
    "readingscores_df['10th'] = avg10th_reading_score\n",
    "print(readingscores_df)"
   ]
  },
  {
   "cell_type": "code",
   "execution_count": 51,
   "metadata": {},
   "outputs": [
    {
     "name": "stdout",
     "output_type": "stream",
     "text": [
      "<pandas.core.groupby.groupby.DataFrameGroupBy object at 0x000001445614D048>\n",
      "              school_name        9th       10th       11th\n",
      "0      Bailey High School  81.303155  80.907183  80.945643\n",
      "1     Cabrera High School  83.676136  84.253219  83.788382\n",
      "2    Figueroa High School  81.198598  81.408912  80.640339\n",
      "3        Ford High School  80.632653  81.262712  80.403642\n",
      "4     Griffin High School  83.369193  83.706897  84.288089\n",
      "5   Hernandez High School  80.866860  80.660147  81.396140\n",
      "6      Holden High School  83.677165  83.324561  83.815534\n",
      "7       Huang High School  81.290284  81.512386  81.417476\n",
      "8     Johnson High School  81.260714  80.773431  80.616027\n",
      "9        Pena High School  83.807273  83.612000  84.335938\n",
      "10  Rodriguez High School  80.993127  80.629808  80.864811\n",
      "11    Shelton High School  84.122642  83.441964  84.373786\n",
      "12     Thomas High School  83.728850  84.254157  83.585542\n",
      "13     Wilson High School  83.939778  84.021452  83.764608\n",
      "14     Wright High School  83.833333  83.812757  84.156322\n"
     ]
    }
   ],
   "source": [
    "#11thgrade data\n",
    "grade_11 = school_data_complete[(school_data_complete[\"grade\"] == \"11th\")]\n",
    "grade_11= grade_11.sort_values(by='school_name').reset_index(drop=True)\n",
    "grade_11_group=grade_11.groupby('school_name')\n",
    "print(grade_11_group)\n",
    "#adding 10th to df\n",
    "avg11th_reading_score= grade_11_group['reading_score'].mean().values\n",
    "readingscores_df['11th'] = avg11th_reading_score\n",
    "print(readingscores_df)"
   ]
  },
  {
   "cell_type": "code",
   "execution_count": 52,
   "metadata": {},
   "outputs": [
    {
     "name": "stdout",
     "output_type": "stream",
     "text": [
      "<pandas.core.groupby.groupby.DataFrameGroupBy object at 0x0000014455B9C278>\n",
      "              school_name        9th       10th       11th       12th\n",
      "0      Bailey High School  81.303155  80.907183  80.945643  80.912451\n",
      "1     Cabrera High School  83.676136  84.253219  83.788382  84.287958\n",
      "2    Figueroa High School  81.198598  81.408912  80.640339  81.384863\n",
      "3        Ford High School  80.632653  81.262712  80.403642  80.662338\n",
      "4     Griffin High School  83.369193  83.706897  84.288089  84.013699\n",
      "5   Hernandez High School  80.866860  80.660147  81.396140  80.857143\n",
      "6      Holden High School  83.677165  83.324561  83.815534  84.698795\n",
      "7       Huang High School  81.290284  81.512386  81.417476  80.305983\n",
      "8     Johnson High School  81.260714  80.773431  80.616027  81.227564\n",
      "9        Pena High School  83.807273  83.612000  84.335938  84.591160\n",
      "10  Rodriguez High School  80.993127  80.629808  80.864811  80.376426\n",
      "11    Shelton High School  84.122642  83.441964  84.373786  82.781671\n",
      "12     Thomas High School  83.728850  84.254157  83.585542  83.831361\n",
      "13     Wilson High School  83.939778  84.021452  83.764608  84.317673\n",
      "14     Wright High School  83.833333  83.812757  84.156322  84.073171\n"
     ]
    }
   ],
   "source": [
    "#12thgrade data\n",
    "grade_12= school_data_complete[(school_data_complete[\"grade\"] == \"12th\")]\n",
    "grade_12= grade_12.sort_values(by='school_name').reset_index(drop=True)\n",
    "grade_12_group=grade_12.groupby('school_name')\n",
    "print(grade_12_group)\n",
    "#adding 10th to df\n",
    "avg12th_reading_score= grade_12_group['reading_score'].mean().values\n",
    "readingscores_df['12th'] = avg12th_reading_score\n",
    "print(readingscores_df)"
   ]
  },
  {
   "cell_type": "code",
   "execution_count": 58,
   "metadata": {},
   "outputs": [
    {
     "data": {
      "text/html": [
       "<div>\n",
       "<style scoped>\n",
       "    .dataframe tbody tr th:only-of-type {\n",
       "        vertical-align: middle;\n",
       "    }\n",
       "\n",
       "    .dataframe tbody tr th {\n",
       "        vertical-align: top;\n",
       "    }\n",
       "\n",
       "    .dataframe thead th {\n",
       "        text-align: right;\n",
       "    }\n",
       "</style>\n",
       "<table border=\"1\" class=\"dataframe\">\n",
       "  <thead>\n",
       "    <tr style=\"text-align: right;\">\n",
       "      <th></th>\n",
       "      <th>school_name</th>\n",
       "      <th>9th</th>\n",
       "      <th>10th</th>\n",
       "      <th>11th</th>\n",
       "      <th>12th</th>\n",
       "    </tr>\n",
       "  </thead>\n",
       "  <tbody>\n",
       "    <tr>\n",
       "      <th>0</th>\n",
       "      <td>Bailey High School</td>\n",
       "      <td>81.303155</td>\n",
       "      <td>80.907183</td>\n",
       "      <td>80.945643</td>\n",
       "      <td>80.912451</td>\n",
       "    </tr>\n",
       "    <tr>\n",
       "      <th>1</th>\n",
       "      <td>Cabrera High School</td>\n",
       "      <td>83.676136</td>\n",
       "      <td>84.253219</td>\n",
       "      <td>83.788382</td>\n",
       "      <td>84.287958</td>\n",
       "    </tr>\n",
       "    <tr>\n",
       "      <th>2</th>\n",
       "      <td>Figueroa High School</td>\n",
       "      <td>81.198598</td>\n",
       "      <td>81.408912</td>\n",
       "      <td>80.640339</td>\n",
       "      <td>81.384863</td>\n",
       "    </tr>\n",
       "    <tr>\n",
       "      <th>3</th>\n",
       "      <td>Ford High School</td>\n",
       "      <td>80.632653</td>\n",
       "      <td>81.262712</td>\n",
       "      <td>80.403642</td>\n",
       "      <td>80.662338</td>\n",
       "    </tr>\n",
       "    <tr>\n",
       "      <th>4</th>\n",
       "      <td>Griffin High School</td>\n",
       "      <td>83.369193</td>\n",
       "      <td>83.706897</td>\n",
       "      <td>84.288089</td>\n",
       "      <td>84.013699</td>\n",
       "    </tr>\n",
       "    <tr>\n",
       "      <th>5</th>\n",
       "      <td>Hernandez High School</td>\n",
       "      <td>80.866860</td>\n",
       "      <td>80.660147</td>\n",
       "      <td>81.396140</td>\n",
       "      <td>80.857143</td>\n",
       "    </tr>\n",
       "    <tr>\n",
       "      <th>6</th>\n",
       "      <td>Holden High School</td>\n",
       "      <td>83.677165</td>\n",
       "      <td>83.324561</td>\n",
       "      <td>83.815534</td>\n",
       "      <td>84.698795</td>\n",
       "    </tr>\n",
       "    <tr>\n",
       "      <th>7</th>\n",
       "      <td>Huang High School</td>\n",
       "      <td>81.290284</td>\n",
       "      <td>81.512386</td>\n",
       "      <td>81.417476</td>\n",
       "      <td>80.305983</td>\n",
       "    </tr>\n",
       "    <tr>\n",
       "      <th>8</th>\n",
       "      <td>Johnson High School</td>\n",
       "      <td>81.260714</td>\n",
       "      <td>80.773431</td>\n",
       "      <td>80.616027</td>\n",
       "      <td>81.227564</td>\n",
       "    </tr>\n",
       "    <tr>\n",
       "      <th>9</th>\n",
       "      <td>Pena High School</td>\n",
       "      <td>83.807273</td>\n",
       "      <td>83.612000</td>\n",
       "      <td>84.335938</td>\n",
       "      <td>84.591160</td>\n",
       "    </tr>\n",
       "    <tr>\n",
       "      <th>10</th>\n",
       "      <td>Rodriguez High School</td>\n",
       "      <td>80.993127</td>\n",
       "      <td>80.629808</td>\n",
       "      <td>80.864811</td>\n",
       "      <td>80.376426</td>\n",
       "    </tr>\n",
       "    <tr>\n",
       "      <th>11</th>\n",
       "      <td>Shelton High School</td>\n",
       "      <td>84.122642</td>\n",
       "      <td>83.441964</td>\n",
       "      <td>84.373786</td>\n",
       "      <td>82.781671</td>\n",
       "    </tr>\n",
       "    <tr>\n",
       "      <th>12</th>\n",
       "      <td>Thomas High School</td>\n",
       "      <td>83.728850</td>\n",
       "      <td>84.254157</td>\n",
       "      <td>83.585542</td>\n",
       "      <td>83.831361</td>\n",
       "    </tr>\n",
       "    <tr>\n",
       "      <th>13</th>\n",
       "      <td>Wilson High School</td>\n",
       "      <td>83.939778</td>\n",
       "      <td>84.021452</td>\n",
       "      <td>83.764608</td>\n",
       "      <td>84.317673</td>\n",
       "    </tr>\n",
       "    <tr>\n",
       "      <th>14</th>\n",
       "      <td>Wright High School</td>\n",
       "      <td>83.833333</td>\n",
       "      <td>83.812757</td>\n",
       "      <td>84.156322</td>\n",
       "      <td>84.073171</td>\n",
       "    </tr>\n",
       "  </tbody>\n",
       "</table>\n",
       "</div>"
      ],
      "text/plain": [
       "              school_name        9th       10th       11th       12th\n",
       "0      Bailey High School  81.303155  80.907183  80.945643  80.912451\n",
       "1     Cabrera High School  83.676136  84.253219  83.788382  84.287958\n",
       "2    Figueroa High School  81.198598  81.408912  80.640339  81.384863\n",
       "3        Ford High School  80.632653  81.262712  80.403642  80.662338\n",
       "4     Griffin High School  83.369193  83.706897  84.288089  84.013699\n",
       "5   Hernandez High School  80.866860  80.660147  81.396140  80.857143\n",
       "6      Holden High School  83.677165  83.324561  83.815534  84.698795\n",
       "7       Huang High School  81.290284  81.512386  81.417476  80.305983\n",
       "8     Johnson High School  81.260714  80.773431  80.616027  81.227564\n",
       "9        Pena High School  83.807273  83.612000  84.335938  84.591160\n",
       "10  Rodriguez High School  80.993127  80.629808  80.864811  80.376426\n",
       "11    Shelton High School  84.122642  83.441964  84.373786  82.781671\n",
       "12     Thomas High School  83.728850  84.254157  83.585542  83.831361\n",
       "13     Wilson High School  83.939778  84.021452  83.764608  84.317673\n",
       "14     Wright High School  83.833333  83.812757  84.156322  84.073171"
      ]
     },
     "execution_count": 58,
     "metadata": {},
     "output_type": "execute_result"
    }
   ],
   "source": [
    "readingscores_df= readingscores_df.sort_values(by='school_name').reset_index(drop=True)\n",
    "readingscores_df"
   ]
  },
  {
   "cell_type": "code",
   "execution_count": null,
   "metadata": {},
   "outputs": [],
   "source": []
  },
  {
   "cell_type": "code",
   "execution_count": null,
   "metadata": {},
   "outputs": [],
   "source": []
  },
  {
   "cell_type": "code",
   "execution_count": null,
   "metadata": {},
   "outputs": [],
   "source": []
  },
  {
   "cell_type": "code",
   "execution_count": null,
   "metadata": {},
   "outputs": [],
   "source": []
  }
 ],
 "metadata": {
  "kernelspec": {
   "display_name": "Python [conda env:PythonData]",
   "language": "python",
   "name": "conda-env-PythonData-py"
  },
  "language_info": {
   "codemirror_mode": {
    "name": "ipython",
    "version": 3
   },
   "file_extension": ".py",
   "mimetype": "text/x-python",
   "name": "python",
   "nbconvert_exporter": "python",
   "pygments_lexer": "ipython3",
   "version": "3.6.7"
  }
 },
 "nbformat": 4,
 "nbformat_minor": 2
}
